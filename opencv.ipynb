{
 "cells": [
  {
   "cell_type": "code",
   "execution_count": 1,
   "metadata": {},
   "outputs": [],
   "source": [
    "import cv2"
   ]
  },
  {
   "cell_type": "code",
   "execution_count": null,
   "metadata": {},
   "outputs": [],
   "source": [
    "#face recognition in pictures"
   ]
  },
  {
   "cell_type": "code",
   "execution_count": 2,
   "metadata": {},
   "outputs": [],
   "source": [
    "face_cascade=cv2.CascadeClassifier(cv2.data.haarcascades+'haarcascade_frontalface_default.xml')\n",
    "img=cv2.imread(\"add your image\",1)"
   ]
  },
  {
   "cell_type": "code",
   "execution_count": 3,
   "metadata": {},
   "outputs": [],
   "source": [
    "gray_img=cv2.cvtColor(img,cv2.COLOR_BGR2GRAY)"
   ]
  },
  {
   "cell_type": "code",
   "execution_count": 4,
   "metadata": {},
   "outputs": [],
   "source": [
    "faces=face_cascade.detectMultiScale(gray_img, scaleFactor=1.05, minNeighbors=5)"
   ]
  },
  {
   "cell_type": "code",
   "execution_count": 5,
   "metadata": {},
   "outputs": [
    {
     "name": "stdout",
     "output_type": "stream",
     "text": [
      "<class 'numpy.ndarray'>\n",
      "[[1733 1868   34   34]\n",
      " [1645 1966   28   28]\n",
      " [ 991  524  609  609]\n",
      " [1729  724  538  538]\n",
      " [1669 1935   68   68]\n",
      " [1282 1821  127  127]\n",
      " [ 760 1495   58   58]\n",
      " [1276 1563   70   70]\n",
      " [ 731 1644   97   97]\n",
      " [ 711 1604   55   55]\n",
      " [1077 2277   73   73]]\n"
     ]
    }
   ],
   "source": [
    "print(type(faces))\n",
    "print(faces)\n",
    "for x,y,w,h in faces:\n",
    "    img=cv2.rectangle(img,(x,y),(x+w,y+h),(0,255,0),3)"
   ]
  },
  {
   "cell_type": "code",
   "execution_count": 6,
   "metadata": {},
   "outputs": [],
   "source": [
    "resized=cv2.resize(img,(int(img.shape[1]/2),int(img.shape[0])))"
   ]
  },
  {
   "cell_type": "code",
   "execution_count": 7,
   "metadata": {},
   "outputs": [],
   "source": [
    "cv2.imshow(\"Gray\",resized)"
   ]
  },
  {
   "cell_type": "code",
   "execution_count": 8,
   "metadata": {},
   "outputs": [
    {
     "data": {
      "text/plain": [
       "-1"
      ]
     },
     "execution_count": 8,
     "metadata": {},
     "output_type": "execute_result"
    }
   ],
   "source": [
    "cv2.waitKey(0)"
   ]
  },
  {
   "cell_type": "code",
   "execution_count": null,
   "metadata": {},
   "outputs": [],
   "source": [
    "#Image capture through web cam"
   ]
  },
  {
   "cell_type": "code",
   "execution_count": 9,
   "metadata": {},
   "outputs": [
    {
     "name": "stdout",
     "output_type": "stream",
     "text": [
      "True\n",
      "[[[255 255 255]\n",
      "  [255 255 255]\n",
      "  [255 255 255]\n",
      "  ...\n",
      "  [ 18  76 132]\n",
      "  [ 21  78 119]\n",
      "  [ 19  76 116]]\n",
      "\n",
      " [[255 255 255]\n",
      "  [255 255 255]\n",
      "  [255 255 255]\n",
      "  ...\n",
      "  [ 16  76 132]\n",
      "  [ 18  76 123]\n",
      "  [ 16  73 120]]\n",
      "\n",
      " [[255 255 255]\n",
      "  [255 255 255]\n",
      "  [255 255 255]\n",
      "  ...\n",
      "  [ 15  73 129]\n",
      "  [ 16  72 124]\n",
      "  [ 15  71 123]]\n",
      "\n",
      " ...\n",
      "\n",
      " [[ 54  92 127]\n",
      "  [ 54  92 127]\n",
      "  [ 57  90 126]\n",
      "  ...\n",
      "  [  9  67 110]\n",
      "  [ 12  68 111]\n",
      "  [ 12  68 111]]\n",
      "\n",
      " [[ 54  91 129]\n",
      "  [ 54  91 129]\n",
      "  [ 56  89 125]\n",
      "  ...\n",
      "  [  9  67 112]\n",
      "  [ 15  67 110]\n",
      "  [ 15  67 110]]\n",
      "\n",
      " [[ 58  94 134]\n",
      "  [ 58  94 134]\n",
      "  [ 57  90 126]\n",
      "  ...\n",
      "  [  9  64 111]\n",
      "  [ 13  64 107]\n",
      "  [ 14  66 109]]]\n"
     ]
    }
   ],
   "source": [
    "import cv2,time\n",
    "video=cv2.VideoCapture(0)\n",
    "check,frame=video.read()\n",
    "print(check)\n",
    "print(frame)\n",
    "\n",
    "time.sleep(5)\n",
    "cv2.imshow(\"Capture\",frame)\n",
    "\n",
    "cv2.waitKey(0)\n",
    "video.release()\n",
    "cv2.destroyAllWindows()"
   ]
  },
  {
   "cell_type": "code",
   "execution_count": 10,
   "metadata": {},
   "outputs": [],
   "source": [
    "#face recognition through live camera"
   ]
  },
  {
   "cell_type": "code",
   "execution_count": null,
   "metadata": {},
   "outputs": [],
   "source": [
    "import cv2\n",
    "cap=cv2.VideoCapture(0)\n",
    "face_cascade=cv2.CascadeClassifier(cv2.data.haarcascades+'haarcascade_frontalface_default.xml')\n",
    "\n",
    "\n",
    "while(True):\n",
    "    ret,img=cap.read()\n",
    "    gray=cv2.cvtColor(img,cv2.COLOR_BGR2GRAY)\n",
    "    face=face_cascade.detectMultiScale(gray,1.3,5)\n",
    "    for(x,y,w,h) in face:\n",
    "        cv2.rectangle(img,(x,y),(x+w,y+h),(0,0,0),2)\n",
    "    cv2.imshow(\"img\",img)\n",
    "    k=cv2.waitKey(10)\n",
    "    if k==27:\n",
    "        break\n",
    "cap.release()\n",
    "cv2.destroyAllWindows()"
   ]
  }
 ],
 "metadata": {
  "kernelspec": {
   "display_name": "Python 3",
   "language": "python",
   "name": "python3"
  },
  "language_info": {
   "codemirror_mode": {
    "name": "ipython",
    "version": 3
   },
   "file_extension": ".py",
   "mimetype": "text/x-python",
   "name": "python",
   "nbconvert_exporter": "python",
   "pygments_lexer": "ipython3",
   "version": "3.7.6"
  }
 },
 "nbformat": 4,
 "nbformat_minor": 4
}
